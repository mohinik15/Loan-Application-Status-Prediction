{
 "cells": [
  {
   "cell_type": "markdown",
   "id": "0a94fafb",
   "metadata": {},
   "source": [
    "# Loan Application Status Prediction Project"
   ]
  },
  {
   "cell_type": "raw",
   "id": "dcdd53c8",
   "metadata": {},
   "source": [
    "Problem Statement:\n",
    "\n",
    "This dataset includes details of applicants who have applied for loan. The dataset includes details like credit history, loan amount, their income, dependents etc.\n",
    "\n",
    "Independent Variables (Feature Variables):\n",
    "\n",
    "-Loan_ID\n",
    "-Gender\n",
    "-Married\n",
    "-Dependents\n",
    "-Education\n",
    "-Self_Employed\n",
    "-ApplicantIncome\n",
    "-CoapplicantIncome\n",
    "-Loan_Amount\n",
    "-Loan_Amount_Term\n",
    "-Credit History\n",
    "-Property_Area\n",
    "\n",
    "Dependent Variable (Target Variable):\n",
    "\n",
    "-Loan_Status"
   ]
  },
  {
   "cell_type": "code",
   "execution_count": null,
   "id": "aaa19fc6",
   "metadata": {},
   "outputs": [],
   "source": [
    "import warnings\n",
    "warnings.simplefilter(\"ignore\")\n",
    "warnings.filterwarnings(\"ignore\")\n",
    "import joblib\n",
    "\n",
    "import pandas as pd\n",
    "import numpy as np\n",
    "import seaborn as sns\n",
    "import missingno\n",
    "import matplotlib.pyplot as plt\n",
    "%matplotlib inline\n",
    "from scipy.stats import zscore\n",
    "\n",
    "from imblearn.over_sampling import SMOTE\n",
    "from sklearn.preprocessing import LabelEncoder\n",
    "from sklearn.preprocessing import OrdinalEncoder\n",
    "from sklearn.preprocessing import StandardScaler\n",
    "from sklearn.model_selection import train_test_split\n",
    "from sklearn.linear_model import LogisticRegression\n",
    "from sklearn.svm import SVC\n",
    "from sklearn.tree import DecisionTreeClassifier\n",
    "from sklearn.ensemble import RandomForestClassifier\n",
    "from sklearn.ensemble import ExtraTreesClassifier\n",
    "from sklearn.neighbors import KNeighborsClassifier\n",
    "import xgboost as xgb\n",
    "import lightgbm as lgb\n",
    "\n",
    "from sklearn import metrics\n",
    "from sklearn.metrics import classification_report\n",
    "from sklearn.metrics import accuracy_score\n",
    "from sklearn.model_selection import cross_val_score\n",
    "from sklearn.model_selection import GridSearchCV"
   ]
  },
  {
   "cell_type": "code",
   "execution_count": null,
   "id": "e2904aae",
   "metadata": {},
   "outputs": [],
   "source": [
    "df = pd.read_csv(\"https://raw.githubusercontent.com/dsrscientist/DSData/master/loan_prediction.csv\")"
   ]
  },
  {
   "cell_type": "code",
   "execution_count": null,
   "id": "832c2647",
   "metadata": {},
   "outputs": [],
   "source": [
    "df"
   ]
  },
  {
   "cell_type": "markdown",
   "id": "e52cb98f",
   "metadata": {},
   "source": [
    "# Exploratory Data Analysis (EDA)"
   ]
  },
  {
   "cell_type": "code",
   "execution_count": null,
   "id": "3aca1191",
   "metadata": {},
   "outputs": [],
   "source": [
    "pd.set_option('display.max_columns', None)\n",
    "pd.set_option('display.max_rows', None)"
   ]
  },
  {
   "cell_type": "code",
   "execution_count": null,
   "id": "1f4d0f6c",
   "metadata": {},
   "outputs": [],
   "source": [
    "df.drop(\"Loan_ID\", axis=1, inplace=True)"
   ]
  },
  {
   "cell_type": "code",
   "execution_count": null,
   "id": "3ca19936",
   "metadata": {},
   "outputs": [],
   "source": [
    "df.info()"
   ]
  },
  {
   "cell_type": "code",
   "execution_count": null,
   "id": "a30ae001",
   "metadata": {},
   "outputs": [],
   "source": [
    "# getting list of object data type column names\n",
    "object_datatype = []\n",
    "for x in df.dtypes.index:\n",
    "    if df.dtypes[x] == 'object':\n",
    "        object_datatype.append(x)\n",
    "print(f\"Object Data Type Columns are:\\n\", object_datatype)\n",
    "\n",
    "\n",
    "# getting the list of float data type column names\n",
    "number_datatype = []\n",
    "for x in df.dtypes.index:\n",
    "    if df.dtypes[x] == 'float64' or df.dtypes[x] == 'int64':\n",
    "        number_datatype.append(x)\n",
    "print(f\"\\nNumber Data Type Columns are:\\n\", number_datatype)"
   ]
  },
  {
   "cell_type": "code",
   "execution_count": null,
   "id": "167a98b7",
   "metadata": {},
   "outputs": [],
   "source": [
    "df.describe().T"
   ]
  },
  {
   "cell_type": "code",
   "execution_count": null,
   "id": "b6f3ae1c",
   "metadata": {},
   "outputs": [],
   "source": [
    "df.isna().sum()"
   ]
  },
  {
   "cell_type": "code",
   "execution_count": null,
   "id": "ff74567c",
   "metadata": {},
   "outputs": [],
   "source": [
    "missingno.bar(df, figsize = (25,5))"
   ]
  },
  {
   "cell_type": "code",
   "execution_count": null,
   "id": "b3fb85ab",
   "metadata": {},
   "outputs": [],
   "source": [
    "print(f\"Rows and Columns before dropping duplicates: \", df.shape)\n",
    "df.drop_duplicates(inplace=True)\n",
    "print(f\"Rows and Columns after dropping duplicates: \", df.shape)"
   ]
  },
  {
   "cell_type": "code",
   "execution_count": null,
   "id": "209620ec",
   "metadata": {},
   "outputs": [],
   "source": [
    "df.nunique().to_frame(\"Unique Values\")"
   ]
  },
  {
   "cell_type": "code",
   "execution_count": null,
   "id": "3c759e54",
   "metadata": {},
   "outputs": [],
   "source": [
    "for col in object_datatype:\n",
    "    print(col)\n",
    "    print(df[col].value_counts())\n",
    "    print(\"=\"*120)"
   ]
  },
  {
   "cell_type": "markdown",
   "id": "35ab17de",
   "metadata": {},
   "source": [
    "# Filling all the missing values and treating them with mean and mode"
   ]
  },
  {
   "cell_type": "code",
   "execution_count": null,
   "id": "d13d880b",
   "metadata": {},
   "outputs": [],
   "source": [
    "# filling continous data columns with the mean value of that column\n",
    "df['LoanAmount'] = df['LoanAmount'].fillna(df['LoanAmount'].mean())\n",
    "df['Loan_Amount_Term'] = df['Loan_Amount_Term'].fillna(df['Loan_Amount_Term'].mean())\n",
    "\n",
    "# filling categorical data columns with the mode value of that column\n",
    "df['Credit_History']=df['Credit_History'].fillna(df['Credit_History'].mode()[0])\n",
    "df['Gender'] = df['Gender'].fillna(df['Gender'].mode()[0])\n",
    "df['Married'] = df['Married'].fillna(df['Married'].mode()[0])\n",
    "df['Dependents'] = df['Dependents'].fillna(df['Dependents'].mode()[0])\n",
    "df['Self_Employed'] = df['Self_Employed'].fillna(df['Self_Employed'].mode()[0])"
   ]
  },
  {
   "cell_type": "code",
   "execution_count": null,
   "id": "b5d41f75",
   "metadata": {},
   "outputs": [],
   "source": [
    "df.isnull().sum()"
   ]
  },
  {
   "cell_type": "markdown",
   "id": "d1cff168",
   "metadata": {},
   "source": [
    "# Visualization"
   ]
  },
  {
   "cell_type": "code",
   "execution_count": null,
   "id": "7e55fc31",
   "metadata": {},
   "outputs": [],
   "source": [
    "print(f\"Object Data Type Column Names: \\n\", object_datatype)\n",
    "print(f\"\\nNumeric Data Type Column Names: \\n\", number_datatype)"
   ]
  },
  {
   "cell_type": "code",
   "execution_count": null,
   "id": "e603b452",
   "metadata": {},
   "outputs": [],
   "source": [
    "plt.style.use('seaborn-white')\n",
    "plt.figure(figsize=(7,5))\n",
    "plt.pie(df['Loan_Status'].value_counts(), labels=df['Loan_Status'].value_counts().index, \n",
    "        shadow=True, autopct='%1.2f%%')\n",
    "plt.title('Loan Status Information\\n')\n",
    "plt.legend(prop={'size':14})\n",
    "plt.axis('equal')\n",
    "plt.tight_layout()\n",
    "plt.show()"
   ]
  },
  {
   "cell_type": "code",
   "execution_count": null,
   "id": "832400ef",
   "metadata": {},
   "outputs": [],
   "source": [
    "plt.figure(figsize=(7,5))\n",
    "plt.pie(df['Gender'].value_counts(), labels=df['Gender'].value_counts().index, \n",
    "        shadow=True, autopct='%1.2f%%')\n",
    "plt.title('Gender Distribution\\n')\n",
    "plt.legend(prop={'size':14})\n",
    "plt.axis('equal')\n",
    "plt.tight_layout()\n",
    "plt.show()"
   ]
  },
  {
   "cell_type": "code",
   "execution_count": null,
   "id": "4656f5cb",
   "metadata": {},
   "outputs": [],
   "source": [
    "plt.figure(figsize=(7,5))\n",
    "plt.pie(df['Married'].value_counts(), labels=df['Married'].value_counts().index, \n",
    "        shadow=True, autopct='%1.2f%%')\n",
    "plt.title('Marital Status\\n')\n",
    "plt.legend(prop={'size':14})\n",
    "plt.axis('equal')\n",
    "plt.tight_layout()\n",
    "plt.show()"
   ]
  },
  {
   "cell_type": "code",
   "execution_count": null,
   "id": "2121d535",
   "metadata": {},
   "outputs": [],
   "source": [
    "plt.figure(figsize=(8,5))\n",
    "plt.pie(df['Education'].value_counts(), labels=df['Education'].value_counts().index, \n",
    "        shadow=True, autopct='%1.2f%%')\n",
    "plt.title('Education Distribution\\n')\n",
    "plt.legend(prop={'size':14})\n",
    "plt.axis('equal')\n",
    "plt.tight_layout()\n",
    "plt.show()"
   ]
  },
  {
   "cell_type": "code",
   "execution_count": null,
   "id": "9deac56a",
   "metadata": {},
   "outputs": [],
   "source": [
    "plt.figure(figsize=(8,5))\n",
    "plt.pie(df['Self_Employed'].value_counts(), labels=df['Self_Employed'].value_counts().index, \n",
    "        shadow=True, autopct='%1.2f%%')\n",
    "plt.title('Self Employed People\\n')\n",
    "plt.legend(prop={'size':14})\n",
    "plt.axis('equal')\n",
    "plt.tight_layout()\n",
    "plt.show()"
   ]
  },
  {
   "cell_type": "code",
   "execution_count": null,
   "id": "149e098e",
   "metadata": {},
   "outputs": [],
   "source": [
    "plt.figure(figsize=(8,5))\n",
    "plt.pie(df['Credit_History'].value_counts(), labels=df['Credit_History'].value_counts().index, \n",
    "        shadow=True, autopct='%1.2f%%')\n",
    "plt.title('Credit History Details\\n')\n",
    "plt.legend(prop={'size':14})\n",
    "plt.axis('equal')\n",
    "plt.tight_layout()\n",
    "plt.show()"
   ]
  },
  {
   "cell_type": "code",
   "execution_count": null,
   "id": "f2fc559f",
   "metadata": {},
   "outputs": [],
   "source": [
    "plt.figure(figsize=(8,5))\n",
    "plt.pie(df['Property_Area'].value_counts(), labels=df['Property_Area'].value_counts().index, \n",
    "        shadow=True, autopct='%1.2f%%')\n",
    "plt.title('Property Area Location\\n')\n",
    "plt.legend(prop={'size':14})\n",
    "plt.axis('equal')\n",
    "plt.tight_layout()\n",
    "plt.show()"
   ]
  },
  {
   "cell_type": "code",
   "execution_count": null,
   "id": "6fdf9346",
   "metadata": {},
   "outputs": [],
   "source": [
    "plt.figure(figsize=(8,5))\n",
    "plt.pie(df['Dependents'].value_counts(), labels=df['Dependents'].value_counts().index, \n",
    "        shadow=True, autopct='%1.2f%%')\n",
    "plt.title('Information on number of Dependents\\n')\n",
    "plt.legend(prop={'size':14})\n",
    "plt.axis('equal')\n",
    "plt.tight_layout()\n",
    "plt.show()"
   ]
  },
  {
   "cell_type": "code",
   "execution_count": null,
   "id": "3467756b",
   "metadata": {},
   "outputs": [],
   "source": [
    "try:\n",
    "    plt.figure(figsize=(10,5))\n",
    "    col_name = 'Loan_Amount_Term'\n",
    "    values = df[col_name].value_counts()\n",
    "    index = 0\n",
    "    ax = sns.countplot(df[col_name], palette=\"prism\")\n",
    "    for i in ax.get_xticklabels():\n",
    "        ax.text(index, values[i.get_text()]/2, values[i.get_text()], \n",
    "                horizontalalignment=\"center\", fontweight='bold', color='w')\n",
    "        index += 1\n",
    "    plt.title(f\"Count Plot for {col_name}\\n\")\n",
    "    plt.ylabel(f\"Number of rows\")\n",
    "    plt.xticks(rotation=90)\n",
    "    plt.show()\n",
    "    \n",
    "except Exception as e:\n",
    "    pass"
   ]
  },
  {
   "cell_type": "code",
   "execution_count": null,
   "id": "97263af5",
   "metadata": {},
   "outputs": [],
   "source": [
    "plt.style.use('default')\n",
    "g = sns.pairplot(df, hue='Loan_Status', diag_kind='kde')\n",
    "for ax in g.axes.flat:\n",
    "    ax.tick_params(\"x\", labelrotation=90)\n",
    "plt.show()"
   ]
  },
  {
   "cell_type": "code",
   "execution_count": null,
   "id": "2f9d3e9a",
   "metadata": {},
   "outputs": [],
   "source": [
    "plt.style.use('seaborn-bright')\n",
    "sns.relplot(data=df, x='LoanAmount', y='Loan_Amount_Term', hue='Loan_Status')\n",
    "sns.rugplot(data=df, x='LoanAmount', y='Loan_Amount_Term', hue='Loan_Status', legend=False)"
   ]
  },
  {
   "cell_type": "code",
   "execution_count": null,
   "id": "2fc297d2",
   "metadata": {},
   "outputs": [],
   "source": [
    "sns.relplot(data=df, x='LoanAmount', y='Loan_Amount_Term', hue='Credit_History')\n",
    "sns.rugplot(data=df, x='LoanAmount', y='Loan_Amount_Term', hue='Credit_History', legend=False)"
   ]
  },
  {
   "cell_type": "code",
   "execution_count": null,
   "id": "40c83851",
   "metadata": {},
   "outputs": [],
   "source": [
    "sns.relplot(data=df, x='LoanAmount', y='ApplicantIncome', hue='Loan_Status')\n",
    "sns.rugplot(data=df, x='LoanAmount', y='ApplicantIncome', hue='Loan_Status', legend=False)"
   ]
  },
  {
   "cell_type": "code",
   "execution_count": null,
   "id": "daeec824",
   "metadata": {},
   "outputs": [],
   "source": [
    "sns.relplot(data=df, x='LoanAmount', y='ApplicantIncome', hue='Credit_History')\n",
    "sns.rugplot(data=df, x='LoanAmount', y='ApplicantIncome', hue='Credit_History', legend=False)"
   ]
  },
  {
   "cell_type": "code",
   "execution_count": null,
   "id": "03360182",
   "metadata": {},
   "outputs": [],
   "source": [
    "sns.relplot(data=df, x='LoanAmount', y='CoapplicantIncome', hue='Loan_Status')\n",
    "sns.rugplot(data=df, x='LoanAmount', y='CoapplicantIncome', hue='Loan_Status', legend=False)"
   ]
  },
  {
   "cell_type": "code",
   "execution_count": null,
   "id": "8c92c91b",
   "metadata": {},
   "outputs": [],
   "source": [
    "sns.relplot(data=df, x='LoanAmount', y='CoapplicantIncome', hue='Credit_History')\n",
    "sns.rugplot(data=df, x='LoanAmount', y='CoapplicantIncome', hue='Credit_History', legend=False)"
   ]
  },
  {
   "cell_type": "markdown",
   "id": "3c067cb6",
   "metadata": {},
   "source": [
    "# Encoding the categorical object datatype columns"
   ]
  },
  {
   "cell_type": "code",
   "execution_count": null,
   "id": "5a79e28c",
   "metadata": {},
   "outputs": [],
   "source": [
    "# Label Encoder\n",
    "\n",
    "le = LabelEncoder()\n",
    "df[\"Loan_Status\"] = le.fit_transform(df[\"Loan_Status\"])\n",
    "df.head()"
   ]
  },
  {
   "cell_type": "code",
   "execution_count": null,
   "id": "e31f154d",
   "metadata": {},
   "outputs": [],
   "source": [
    "# Ordinal Encoder\n",
    "\n",
    "oe = OrdinalEncoder()\n",
    "df['Gender'] = oe.fit_transform(df['Gender'].values.reshape(-1,1))\n",
    "df['Married'] = oe.fit_transform(df['Married'].values.reshape(-1,1))\n",
    "df['Dependents'] = oe.fit_transform(df['Dependents'].values.reshape(-1,1))\n",
    "df['Education'] = oe.fit_transform(df['Education'].values.reshape(-1,1))\n",
    "df['Self_Employed'] = oe.fit_transform(df['Self_Employed'].values.reshape(-1,1))\n",
    "df['Property_Area'] = oe.fit_transform(df['Property_Area'].values.reshape(-1,1))\n",
    "df.head()"
   ]
  },
  {
   "cell_type": "code",
   "execution_count": null,
   "id": "a77b7217",
   "metadata": {},
   "outputs": [],
   "source": [
    "print(f\"Shape of our data frame post encoding is\", df.shape)\n",
    "df.isna().sum()"
   ]
  },
  {
   "cell_type": "code",
   "execution_count": null,
   "id": "eaa56c0b",
   "metadata": {},
   "outputs": [],
   "source": [
    "plt.style.use('seaborn-whitegrid')\n",
    "fig, ax = plt.subplots(ncols=5, nrows=1, figsize=(15,5))\n",
    "index = 0\n",
    "ax = ax.flatten()\n",
    "for col, value in df[number_datatype].items():\n",
    "    sns.boxplot(y=col, data=df, ax=ax[index], palette=\"Set2\")\n",
    "    index += 1\n",
    "plt.tight_layout(pad=0.4, w_pad=0.4, h_pad=1.0)\n",
    "plt.show()"
   ]
  },
  {
   "cell_type": "code",
   "execution_count": null,
   "id": "5f4f9e48",
   "metadata": {},
   "outputs": [],
   "source": [
    "fig, ax = plt.subplots(ncols=5, nrows=1, figsize=(15,5))\n",
    "index = 0\n",
    "ax = ax.flatten()\n",
    "for col, value in df[number_datatype].items():\n",
    "    sns.distplot(value, ax=ax[index], hist=False, color=\"y\", kde_kws={\"shade\": True})\n",
    "    index += 1\n",
    "plt.tight_layout(pad=0.4, w_pad=0.4, h_pad=1.0)\n",
    "plt.show()"
   ]
  },
  {
   "cell_type": "code",
   "execution_count": null,
   "id": "9f3318c0",
   "metadata": {},
   "outputs": [],
   "source": [
    "df.hist(figsize=(15,15))\n",
    "plt.show()"
   ]
  },
  {
   "cell_type": "markdown",
   "id": "31638215",
   "metadata": {},
   "source": [
    "# Correlation using a Heatmap"
   ]
  },
  {
   "cell_type": "raw",
   "id": "1e2a7ea1",
   "metadata": {},
   "source": [
    "Positive correlation - A correlation of +1 indicates a perfect positive correlation, meaning that both variables move in the same direction together.\n",
    "\n",
    "Negative correlation - A correlation of –1 indicates a perfect negative correlation, meaning that as one variable goes up, the other goes down."
   ]
  },
  {
   "cell_type": "code",
   "execution_count": null,
   "id": "fecab985",
   "metadata": {},
   "outputs": [],
   "source": [
    "plt.style.use('seaborn-pastel')\n",
    "upper_triangle = np.triu(df.corr())\n",
    "plt.figure(figsize=(10,7))\n",
    "sns.heatmap(df.corr(), vmin=-1, vmax=1, annot=True, square=True, fmt='0.3f', \n",
    "            annot_kws={'size':8}, cmap=\"cubehelix_r\", mask=upper_triangle)\n",
    "plt.xticks(fontsize=10)\n",
    "plt.yticks(fontsize=10)\n",
    "plt.show()"
   ]
  },
  {
   "cell_type": "markdown",
   "id": "5193b33e",
   "metadata": {},
   "source": [
    "# Correlation Bar Plot comparing features with our label"
   ]
  },
  {
   "cell_type": "code",
   "execution_count": null,
   "id": "a9951362",
   "metadata": {},
   "outputs": [],
   "source": [
    "plt.style.use('seaborn-white')\n",
    "df_corr = df.corr()\n",
    "plt.figure(figsize=(8,5))\n",
    "df_corr['Loan_Status'].sort_values(ascending=False).drop('Loan_Status').plot.bar()\n",
    "plt.title(\"Correlation of Features vs Income Label\\n\", fontsize=16)\n",
    "plt.xlabel(\"\\nFeatures List\", fontsize=14)\n",
    "plt.ylabel(\"Correlation Value\", fontsize=12)\n",
    "plt.show()"
   ]
  },
  {
   "cell_type": "markdown",
   "id": "5f83aecc",
   "metadata": {},
   "source": [
    "# Using Z Score to remove outliers"
   ]
  },
  {
   "cell_type": "code",
   "execution_count": null,
   "id": "38b30cb1",
   "metadata": {},
   "outputs": [],
   "source": [
    "z = np.abs(zscore(df))\n",
    "threshold = 3\n",
    "df1 = df[(z<3).all(axis = 1)]\n",
    "\n",
    "print (\"Shape of the dataframe before removing outliers: \", df.shape)\n",
    "print (\"Shape of the dataframe after removing outliers: \", df1.shape)\n",
    "print (\"Percentage of data loss post outlier removal: \", (df.shape[0]-df1.shape[0])/df.shape[0]*100)\n",
    "\n",
    "df=df1.copy() # reassigning the changed dataframe name to our original dataframe name"
   ]
  },
  {
   "cell_type": "code",
   "execution_count": null,
   "id": "5d54fd1d",
   "metadata": {},
   "outputs": [],
   "source": [
    "df.skew()"
   ]
  },
  {
   "cell_type": "markdown",
   "id": "88d9e193",
   "metadata": {},
   "source": [
    "# Using Log Transform to fix skewness"
   ]
  },
  {
   "cell_type": "code",
   "execution_count": null,
   "id": "5f63f961",
   "metadata": {},
   "outputs": [],
   "source": [
    "for col in number_datatype:\n",
    "    if df.skew().loc[col]>0.55:\n",
    "        df[col]=np.log1p(df[col])"
   ]
  },
  {
   "cell_type": "code",
   "execution_count": null,
   "id": "8ba635db",
   "metadata": {},
   "outputs": [],
   "source": [
    "df.skew()"
   ]
  },
  {
   "cell_type": "markdown",
   "id": "0b5f39d7",
   "metadata": {},
   "source": [
    "# Splitting the dataset into 2 variables namely 'X' and 'Y' for feature and label"
   ]
  },
  {
   "cell_type": "code",
   "execution_count": null,
   "id": "5326fb79",
   "metadata": {},
   "outputs": [],
   "source": [
    "X = df.drop('Loan_Status', axis=1)\n",
    "Y = df['Loan_Status']"
   ]
  },
  {
   "cell_type": "markdown",
   "id": "92512e79",
   "metadata": {},
   "source": [
    "# Resolving the class imbalance issue in our label column"
   ]
  },
  {
   "cell_type": "code",
   "execution_count": null,
   "id": "800892ca",
   "metadata": {},
   "outputs": [],
   "source": [
    "Y.value_counts()"
   ]
  },
  {
   "cell_type": "code",
   "execution_count": null,
   "id": "1a81d2a9",
   "metadata": {},
   "outputs": [],
   "source": [
    "# adding samples to make all the categorical label values same\n",
    "\n",
    "oversample = SMOTE()\n",
    "X, Y = oversample.fit_resample(X, Y)"
   ]
  },
  {
   "cell_type": "code",
   "execution_count": null,
   "id": "c9f8d4bf",
   "metadata": {},
   "outputs": [],
   "source": [
    "y.value_counts()"
   ]
  },
  {
   "cell_type": "markdown",
   "id": "c52ee02b",
   "metadata": {},
   "source": [
    "# Feature Scaling"
   ]
  },
  {
   "cell_type": "code",
   "execution_count": null,
   "id": "02877e9a",
   "metadata": {},
   "outputs": [],
   "source": [
    "scaler = StandardScaler()\n",
    "X = pd.DataFrame(scaler.fit_transform(X), columns=X.columns)\n",
    "X.head()"
   ]
  },
  {
   "cell_type": "markdown",
   "id": "e8885126",
   "metadata": {},
   "source": [
    "# Finding best random state for building Classification Models"
   ]
  },
  {
   "cell_type": "code",
   "execution_count": null,
   "id": "b2ad6cd8",
   "metadata": {},
   "outputs": [],
   "source": [
    "maxAccu=0\n",
    "maxRS=0\n",
    "\n",
    "for i in range(1, 1000):\n",
    "    X_train, X_test, Y_train, Y_test = train_test_split(X, Y, test_size=0.25, random_state=i)\n",
    "    lr=LogisticRegression()\n",
    "    lr.fit(X_train, Y_train)\n",
    "    pred = lr.predict(X_test)\n",
    "    acc_score = (accuracy_score(Y_test, pred))*100\n",
    "    \n",
    "    if acc_score>maxAccu:\n",
    "        maxAccu=acc_score\n",
    "        maxRS=i\n",
    "\n",
    "print(\"Best accuracy score is\", maxAccu,\"on Random State\", maxRS)"
   ]
  },
  {
   "cell_type": "markdown",
   "id": "32225ca6",
   "metadata": {},
   "source": [
    "# Feature Importance Bar Graph"
   ]
  },
  {
   "cell_type": "code",
   "execution_count": null,
   "id": "f8de40ba",
   "metadata": {},
   "outputs": [],
   "source": [
    "rf=RandomForestClassifier()\n",
    "rf.fit(X_train, Y_train)\n",
    "importances = pd.DataFrame({'Features':X.columns, 'Importance':np.round(rf.feature_importances_,3)})\n",
    "importances = importances.sort_values('Importance', ascending=False).set_index('Features')\n",
    "importances.plot.bar(color='teal')\n",
    "importances"
   ]
  },
  {
   "cell_type": "markdown",
   "id": "b40ef2cc",
   "metadata": {},
   "source": [
    "# Machine Learning Model for Classification with Evaluation Metrics"
   ]
  },
  {
   "cell_type": "code",
   "execution_count": null,
   "id": "d1b979ff",
   "metadata": {},
   "outputs": [],
   "source": [
    "# Classification Model Function\n",
    "\n",
    "def classify(model, X, Y):\n",
    "    X_train, X_test, Y_train, Y_test = train_test_split(X, Y, test_size=0.25, random_state=112)\n",
    "    \n",
    "    # Training the model\n",
    "    model.fit(X_train, Y_train)\n",
    "    \n",
    "    # Predicting Y_test\n",
    "    pred = model.predict(X_test)\n",
    "    \n",
    "    # Classification Report\n",
    "    class_report = classification_report(Y_test, pred)\n",
    "    print(\"\\nClassification Report:\\n\", class_report)\n",
    "    \n",
    "    # Accuracy Score\n",
    "    acc_score = (accuracy_score(Y_test, pred))*100\n",
    "    print(\"Accuracy Score:\", acc_score)\n",
    "    \n",
    "    # Cross Validation Score\n",
    "    cv_score = (cross_val_score(model, X, Y, cv=5).mean())*100\n",
    "    print(\"Cross Validation Score:\", cv_score)\n",
    "    \n",
    "    # Result of accuracy minus cv scores\n",
    "    result = acc_score - cv_score\n",
    "    print(\"\\nAccuracy Score - Cross Validation Score is\", result)"
   ]
  },
  {
   "cell_type": "code",
   "execution_count": null,
   "id": "87563a91",
   "metadata": {},
   "outputs": [],
   "source": [
    "# Logistic Regression\n",
    "\n",
    "model=LogisticRegression()\n",
    "classify(model, X, Y)"
   ]
  },
  {
   "cell_type": "code",
   "execution_count": null,
   "id": "03b80471",
   "metadata": {},
   "outputs": [],
   "source": [
    "# Support Vector Classifier\n",
    "\n",
    "model=SVC(C=1.0, kernel='rbf', gamma='auto', random_state=42)\n",
    "classify(model, X, Y)"
   ]
  },
  {
   "cell_type": "code",
   "execution_count": null,
   "id": "0d985588",
   "metadata": {},
   "outputs": [],
   "source": [
    "# Decision Tree Classifier\n",
    "\n",
    "model=DecisionTreeClassifier(random_state=21, max_depth=15)\n",
    "classify(model, X, Y)"
   ]
  },
  {
   "cell_type": "code",
   "execution_count": null,
   "id": "339ac718",
   "metadata": {},
   "outputs": [],
   "source": [
    "# Random Forest Classifier\n",
    "\n",
    "model=RandomForestClassifier(max_depth=15, random_state=111)\n",
    "classify(model, X, Y)"
   ]
  },
  {
   "cell_type": "code",
   "execution_count": null,
   "id": "2b3818ee",
   "metadata": {},
   "outputs": [],
   "source": [
    "# K Neighbors Classifier\n",
    "\n",
    "model=KNeighborsClassifier(n_neighbors=15)\n",
    "classify(model, X, Y)"
   ]
  },
  {
   "cell_type": "code",
   "execution_count": null,
   "id": "4e63cc31",
   "metadata": {},
   "outputs": [],
   "source": [
    "# Extra Trees Classifier\n",
    "\n",
    "model=ExtraTreesClassifier()\n",
    "classify(model, X, Y)"
   ]
  },
  {
   "cell_type": "code",
   "execution_count": null,
   "id": "a6d5bf23",
   "metadata": {},
   "outputs": [],
   "source": [
    "# XGB Classifier\n",
    "\n",
    "model=xgb.XGBClassifier(verbosity=0)\n",
    "classify(model, X, Y)"
   ]
  },
  {
   "cell_type": "code",
   "execution_count": null,
   "id": "27dd4c45",
   "metadata": {},
   "outputs": [],
   "source": [
    "# LGBM Classifier\n",
    "\n",
    "model=lgb.LGBMClassifier()\n",
    "classify(model, X, Y)"
   ]
  },
  {
   "cell_type": "markdown",
   "id": "65dbf9b3",
   "metadata": {},
   "source": [
    "# Hyper parameter tuning on the best Classification ML Model"
   ]
  },
  {
   "cell_type": "code",
   "execution_count": null,
   "id": "75f95d69",
   "metadata": {},
   "outputs": [],
   "source": [
    "# Choosing Extra Trees Classifier\n",
    "\n",
    "fmod_param = {'criterion' : ['gini', 'entropy'],\n",
    "              'n_jobs' : [-2, -1, 1],\n",
    "              'random_state' : [42, 739, 1000],\n",
    "              'max_depth' : [0, 15, 30],\n",
    "              'n_estimators' : [100, 200, 300]\n",
    "             }"
   ]
  },
  {
   "cell_type": "code",
   "execution_count": null,
   "id": "423b9647",
   "metadata": {},
   "outputs": [],
   "source": [
    "GSCV = GridSearchCV(ExtraTreesClassifier(), fmod_param, cv=5)"
   ]
  },
  {
   "cell_type": "code",
   "execution_count": null,
   "id": "fe4f88d4",
   "metadata": {},
   "outputs": [],
   "source": [
    "GSCV.fit(X_train,Y_train)"
   ]
  },
  {
   "cell_type": "code",
   "execution_count": null,
   "id": "a89eb387",
   "metadata": {},
   "outputs": [],
   "source": [
    "GSCV.best_params_"
   ]
  },
  {
   "cell_type": "code",
   "execution_count": null,
   "id": "0978b2ec",
   "metadata": {},
   "outputs": [],
   "source": [
    "Final_Model = ExtraTreesClassifier(criterion='entropy', max_depth=30, n_estimators=100, n_jobs=-2, random_state=1000)\n",
    "Classifier = Final_Model.fit(X_train, Y_train)\n",
    "fmod_pred = Final_Model.predict(X_test)\n",
    "fmod_acc = (accuracy_score(Y_test, fmod_pred))*100\n",
    "print(\"Accuracy score for the Best Model is:\", fmod_acc)"
   ]
  },
  {
   "cell_type": "markdown",
   "id": "0d599afc",
   "metadata": {},
   "source": [
    "# AUC ROC Curve"
   ]
  },
  {
   "cell_type": "code",
   "execution_count": null,
   "id": "6761ad68",
   "metadata": {},
   "outputs": [],
   "source": [
    "plt.style.use('seaborn')\n",
    "disp = metrics.plot_roc_curve(Final_Model, X_test, Y_test)\n",
    "disp.figure_.suptitle(\"ROC Curve\")\n",
    "plt.show()"
   ]
  },
  {
   "cell_type": "markdown",
   "id": "76b4cc31",
   "metadata": {},
   "source": [
    "# Confusion Matrix"
   ]
  },
  {
   "cell_type": "code",
   "execution_count": null,
   "id": "1f3f9456",
   "metadata": {},
   "outputs": [],
   "source": [
    "plt.style.use('default')\n",
    "class_names = df.columns\n",
    "metrics.plot_confusion_matrix(Classifier, X_test, Y_test, cmap='mako')\n",
    "plt.title('\\t Confusion Matrix for Decision Tree Classifier \\n')\n",
    "plt.show()"
   ]
  }
 ],
 "metadata": {
  "kernelspec": {
   "display_name": "Python 3 (ipykernel)",
   "language": "python",
   "name": "python3"
  },
  "language_info": {
   "codemirror_mode": {
    "name": "ipython",
    "version": 3
   },
   "file_extension": ".py",
   "mimetype": "text/x-python",
   "name": "python",
   "nbconvert_exporter": "python",
   "pygments_lexer": "ipython3",
   "version": "3.9.7"
  }
 },
 "nbformat": 4,
 "nbformat_minor": 5
}
